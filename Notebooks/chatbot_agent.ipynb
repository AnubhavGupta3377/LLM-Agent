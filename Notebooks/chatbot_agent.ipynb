{
 "cells": [
  {
   "cell_type": "markdown",
   "metadata": {},
   "source": [
    "Based on LangGraph tutorial: https://langchain-ai.github.io/langgraph/tutorials/introduction/"
   ]
  },
  {
   "cell_type": "code",
   "execution_count": 1,
   "metadata": {},
   "outputs": [],
   "source": [
    "import sys\n",
    "import os\n",
    "sys.path.insert(0, os.path.abspath(os.path.join(os.path.join(os.getcwd(), os.pardir), \"Chatbot-Agent/src\")))"
   ]
  },
  {
   "cell_type": "code",
   "execution_count": 35,
   "metadata": {},
   "outputs": [],
   "source": [
    "import os\n",
    "import getpass\n",
    "from dataclasses import dataclass\n",
    "\n",
    "\n",
    "def _set_env(var: str):\n",
    "    if not os.environ.get(var):\n",
    "        os.environ[var] = getpass.getpass(f\"{var}: \")\n",
    "\n",
    "\n",
    "def setup_env():\n",
    "    _set_env(\"TAVILY_API_KEY\")\n",
    "    os.environ[\"TOKENIZERS_PARALLELISM\"] = \"true\"\n",
    "\n",
    "    _set_env(\"LANGSMITH_API_KEY\")\n",
    "    os.environ[\"LANGCHAIN_TRACING_V2\"] = \"true\"\n",
    "    os.environ[\"LANGCHAIN_PROJECT\"] = \"local-llm-rag-llama-3.2\"\n",
    "\n",
    "setup_env()\n",
    "\n",
    "from langchain_ollama import ChatOllama\n",
    "\n",
    "llm = ChatOllama(model=\"llama3.2:3b-instruct-fp16\", temperature=0)\n"
   ]
  },
  {
   "cell_type": "code",
   "execution_count": 36,
   "metadata": {},
   "outputs": [],
   "source": [
    "from typing import Annotated\n",
    "from langchain_community.tools.tavily_search import TavilySearchResults\n",
    "from langchain_core.messages import BaseMessage\n",
    "from typing_extensions import TypedDict\n",
    "from langgraph.checkpoint.memory import MemorySaver\n",
    "from langgraph.graph import StateGraph, START, END\n",
    "from langgraph.graph.message import add_messages\n",
    "from langgraph.prebuilt import ToolNode, tools_condition\n",
    "\n",
    "\n",
    "class State(TypedDict):\n",
    "    messages: Annotated[list, add_messages]\n",
    "\n",
    "graph_builder = StateGraph(State)\n",
    "\n",
    "tool = TavilySearchResults(max_results=2)\n",
    "tools = [tool]\n",
    "llm_with_tools = llm.bind_tools(tools)\n",
    "\n",
    "\n",
    "def chatbot(state: State):\n",
    "    return {\"messages\": [llm_with_tools.invoke(state[\"messages\"])]}\n",
    "\n",
    "\n",
    "graph_builder.add_node(\"chatbot\", chatbot)\n",
    "\n",
    "tool_node = ToolNode(tools=[tool])\n",
    "graph_builder.add_node(\"tools\", tool_node)\n",
    "\n",
    "graph_builder.add_conditional_edges(\n",
    "    \"chatbot\",\n",
    "    tools_condition,\n",
    ")\n",
    "# Any time a tool is called, we return to the chatbot to decide the next step\n",
    "graph_builder.add_edge(\"tools\", \"chatbot\")\n",
    "graph_builder.add_edge(START, \"chatbot\")\n",
    "memory = MemorySaver()\n",
    "graph = graph_builder.compile(checkpointer=memory)\n"
   ]
  },
  {
   "cell_type": "code",
   "execution_count": 37,
   "metadata": {},
   "outputs": [
    {
     "data": {
      "image/png": "[encoded data removed]",
      "text/plain": [
       "<IPython.core.display.Image object>"
      ]
     },
     "metadata": {},
     "output_type": "display_data"
    }
   ],
   "source": [
    "from IPython.display import Image, display\n",
    "\n",
    "display(Image(graph.get_graph().draw_mermaid_png()))"
   ]
  },
  {
   "cell_type": "code",
   "execution_count": 45,
   "metadata": {},
   "outputs": [
    {
     "name": "stdout",
     "output_type": "stream",
     "text": [
      "================================\u001b[1m Human Message \u001b[0m=================================\n",
      "\n",
      "What's ChatGPT?\n",
      "==================================\u001b[1m Ai Message \u001b[0m==================================\n",
      "Tool Calls:\n",
      "  tavily_search_results_json (abd13b34-82cf-48e9-bd06-a5de87eef656)\n",
      " Call ID: abd13b34-82cf-48e9-bd06-a5de87eef656\n",
      "  Args:\n",
      "    query: ChatGPT\n",
      "=================================\u001b[1m Tool Message \u001b[0m=================================\n",
      "Name: tavily_search_results_json\n",
      "\n",
      "[{\"title\": \"ChatGPT - Wikipedia\", \"url\": \"https://en.wikipedia.org/wiki/ChatGPT\", \"content\": \"ChatGPT is a generative artificial intelligence chatbot[2][3] developed by OpenAI and launched in 2022. It is currently based on the GPT-4o large language model (LLM). ChatGPT can generate human-like conversational responses and enables users to refine and steer a conversation towards a desired length, format, style, level of detail, and language.[4] It is credited with accelerating the AI boom, which has led to ongoing rapid investment in and public attention to the field of artificial [...] ChatGPT is built on OpenAI's proprietary series of generative pre-trained transformer (GPT) models and is fine-tuned for conversational applications using a combination of supervised learning and reinforcement learning from human feedback.[6] Successive user prompts and replies are considered at each conversation stage as context.[16] ChatGPT was released as a freely available research preview, but due to its popularity, OpenAI now operates the service on a freemium model. Users on its free [...] ChatGPT is based on particular GPT foundation models, namely GPT-4, GPT-4o and GPT-4o mini, that were fine-tuned to target conversational usage.[18] The fine-tuning process leveraged supervised learning and reinforcement learning from human feedback (RLHF).[19][20] Both approaches employed human trainers to improve model performance. In the case of supervised learning, the trainers played both sides: the user and the AI assistant. In the reinforcement learning stage, human trainers first ranked\", \"score\": 0.9288814}, {\"title\": \"Introducing ChatGPT - OpenAI\", \"url\": \"https://openai.com/index/chatgpt/\", \"content\": \"ChatGPT is a sibling model to InstructGPT⁠, which is trained to follow an instruction in a prompt and provide a detailed response.\\nWe are excited to introduce ChatGPT to get users’ feedback and learn about its strengths and weaknesses. During the research preview, usage of ChatGPT is free. Try it now at chatgpt.com⁠(opens in a new window).\\nSamples\\nFix codeHome securityFermat's Little TheoremNeighbor introduction\\nFix codeHome securityFermat's Little TheoremNeighbor introduction\\nUser [...] Iterative deployment\\nToday’s research release of ChatGPT is the latest step in OpenAI’s iterative deployment⁠ of increasingly safe and useful AI systems. Many lessons from deployment of earlier models like GPT‑3 and Codex have informed the safety mitigations in place for this release, including substantial reductions in harmful and untruthful outputs achieved by the use of reinforcement learning from human feedback (RLHF).\\nChristopher ColumbusViolent storyBully John Doe\", \"score\": 0.8364614}]\n",
      "==================================\u001b[1m Ai Message \u001b[0m==================================\n",
      "\n",
      "ChatGPT is a generative artificial intelligence chatbot developed by OpenAI, launched in 2022. It uses a large language model (LLM) to generate human-like conversational responses and can be steered towards a desired length, format, style, level of detail, and language. ChatGPT has been credited with accelerating the AI boom and is built on OpenAI's proprietary series of generative pre-trained transformer (GPT) models, fine-tuned for conversational applications using supervised learning and reinforcement learning from human feedback.\n",
      "================================\u001b[1m Human Message \u001b[0m=================================\n",
      "\n",
      "Who created it?\n",
      "==================================\u001b[1m Ai Message \u001b[0m==================================\n",
      "Tool Calls:\n",
      "  tavily_search_results_json (649e8e7d-dada-4de6-8f66-cf4594cf2ef5)\n",
      " Call ID: 649e8e7d-dada-4de6-8f66-cf4594cf2ef5\n",
      "  Args:\n",
      "    query: who created ChatGPT\n",
      "=================================\u001b[1m Tool Message \u001b[0m=================================\n",
      "Name: tavily_search_results_json\n",
      "\n",
      "[{\"title\": \"What Is ChatGPT? Everything You Need to Know | TechTarget\", \"url\": \"https://www.techtarget.com/whatis/definition/ChatGPT\", \"content\": \"Who created ChatGPT?\\nOpenAI -- an artificial intelligence research company -- created ChatGPT and launched the tool in November 2022. It was founded by a group of entrepreneurs and researchers including Elon Musk and Sam Altman in 2015. OpenAI is backed by several investors, with Microsoft being the most notable. OpenAI also created Dall-E, an AI text-to-art generator.\\nHow does ChatGPT work?\", \"score\": 0.918663}, {\"title\": \"Who Created ChatGPT? The AI Chatbot Everyone Is Talking About\", \"url\": \"https://www.godofprompt.ai/blog/who-created-chatgpt-the-ai-everyone-is-talking-about?srsltid=AfmBOor4L5jJ4l6l_gEo2PXqNy2lY7p0_roWGrPb5r9TdZVCp57ZVsKy\", \"content\": \"1. ChatGPT was created by OpenAI, a team led by key figures like Elon Musk and Sam Altman. 2. GPT evolved from early models to ChatGPT-4,\", \"score\": 0.90849644}]\n",
      "==================================\u001b[1m Ai Message \u001b[0m==================================\n",
      "\n",
      "ChatGPT was created by OpenAI, an artificial intelligence research company founded in 2015 by a group of entrepreneurs and researchers including Elon Musk and Sam Altman.\n",
      "================================\u001b[1m Human Message \u001b[0m=================================\n",
      "\n",
      "How is it trained?\n",
      "==================================\u001b[1m Ai Message \u001b[0m==================================\n",
      "Tool Calls:\n",
      "  tavily_search_results_json (1d9d260e-7214-4cea-9a7c-4634d076068e)\n",
      " Call ID: 1d9d260e-7214-4cea-9a7c-4634d076068e\n",
      "  Args:\n",
      "    query: ChatGPT training\n",
      "=================================\u001b[1m Tool Message \u001b[0m=================================\n",
      "Name: tavily_search_results_json\n",
      "\n",
      "[{\"title\": \"ChatGPT Online Training Courses | LinkedIn Learning, formerly ...\", \"url\": \"https://www.linkedin.com/learning/topics/chatgpt\", \"content\": \"Solutions for:\\nChatGPT Online Training Courses\\nChatGPT is a cutting-edge natural language processing (NLP) system that can generate realistic and engaging conversations. It is based on a deep neural network that can learn from large amounts of text data and adapt to different contexts and personalities. Explore how to use ChatGPT to create chatbots, voice assistants, and interactive stories.\\nTrending courses\\nCourse\\nGet Ready for Generative AI\\n406,479 viewers\\nCourse\", \"score\": 0.85421735}, {\"title\": \"Best ChatGPT Courses & Certificates [2025] | Coursera Learn Online\", \"url\": \"https://www.coursera.org/courses?query=chatgpt\", \"content\": \"Status: Free\\nFree\\nT\\nTecnológico de Monterrey\\n### ChatGPT - Usos y Estrategias\\nSkills you'll gain: ChatGPT, Data Ethics, Artificial Intelligence, Generative AI, Operational Efficiency, Productivity Software, Ethical Standards And Conduct, Innovation, Education and Training, Analysis, Natural Language Processing, Content Creation, Communication\\n4.9\\nRating, 4.9 out of 5 stars\\n·\\n623 reviews\\nBeginner · Course · 1 - 4 Weeks [...] How can I purchase ChatGPT training courses for my team?‎\\nLooking to enhance your team's ChatGPT skills? Coursera provides tailored enterprise solutions for teams ranging of 5-125 employees. Our offerings include advanced analytics, customized learning paths, and collaborative tools. To explore our ChatGPT training options and make a purchase, please visit our Coursera for Teams page.‎\\nShow all 5 frequently asked questions [...] ChatGPT Courses Online\\nExplore ChatGPT applications for natural language understanding and generation. Learn to use ChatGPT for conversational AI, text summarization, and content creation.\\nFilter by\\nSubject\\nRequired\\n*\\nData Science(90)\\nComputer Science(64)\\nBusiness(49)\\nInformation Technology(29)\\nShow more\\nLanguage\\nRequired\\n*\\nThe language used throughout the course, in both instruction and assessments.\\nEnglish(247)\\nSpanish(117)\\nArabic(112)\\nPortuguese (Brazil)(112)\\nShow more\\nLearning Product\", \"score\": 0.7797419}]\n",
      "==================================\u001b[1m Ai Message \u001b[0m==================================\n",
      "\n",
      "ChatGPT is trained using a deep neural network that can learn from large amounts of text data and adapt to different contexts and personalities. The training process involves feeding the model with vast amounts of text data, which allows it to learn patterns and relationships in language. This enables ChatGPT to generate realistic and engaging conversations.\n",
      "\n",
      "The exact details of the training process are not publicly available, but it is known that OpenAI, the company behind ChatGPT, uses a combination of machine learning algorithms and large-scale computing resources to train the model.\n",
      "\n",
      "Some of the key aspects of ChatGPT's training include:\n",
      "\n",
      "1. Large-scale text data: ChatGPT is trained on vast amounts of text data, which allows it to learn patterns and relationships in language.\n",
      "2. Deep neural network: The model uses a deep neural network architecture, which enables it to learn complex representations of language.\n",
      "3. Supervised learning: ChatGPT is trained using supervised learning techniques, where the model is fed labeled data and learns to predict the correct output.\n",
      "4. Self-supervised learning: In addition to supervised learning, ChatGPT also uses self-supervised learning techniques, where the model is trained on unlabeled data and learns to generate its own text.\n",
      "\n",
      "Overall, the training process for ChatGPT involves a combination of machine learning algorithms, large-scale computing resources, and vast amounts of text data.\n",
      "Goodbye!\n"
     ]
    }
   ],
   "source": [
    "config = {\"configurable\": {\"thread_id\": \"1\"}}\n",
    "\n",
    "while True:\n",
    "    user_input = input(\"User: \")\n",
    "    if user_input.lower() in [\"quit\", \"exit\", \"q\"]:\n",
    "        print(\"Goodbye!\")\n",
    "        break\n",
    "\n",
    "    events = graph.stream(\n",
    "        {\"messages\": [{\"role\": \"user\", \"content\": user_input}]},\n",
    "        config,\n",
    "        stream_mode='values'\n",
    "    )\n",
    "    for event in events:\n",
    "        event[\"messages\"][-1].pretty_print()"
   ]
  },
  {
   "cell_type": "code",
   "execution_count": null,
   "metadata": {},
   "outputs": [],
   "source": []
  }
 ],
 "metadata": {
  "kernelspec": {
   "display_name": "llm_env",
   "language": "python",
   "name": "python3"
  },
  "language_info": {
   "codemirror_mode": {
    "name": "ipython",
    "version": 3
   },
   "file_extension": ".py",
   "mimetype": "text/x-python",
   "name": "python",
   "nbconvert_exporter": "python",
   "pygments_lexer": "ipython3",
   "version": "3.12.7"
  }
 },
 "nbformat": 4,
 "nbformat_minor": 2
}
